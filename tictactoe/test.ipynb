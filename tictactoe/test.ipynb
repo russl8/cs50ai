{
 "cells": [
  {
   "cell_type": "code",
   "execution_count": 1,
   "metadata": {},
   "outputs": [],
   "source": [
    "from tictactoe import initial_state, player, actions, result, winner, terminal\n",
    "\n"
   ]
  },
  {
   "cell_type": "code",
   "execution_count": 2,
   "metadata": {},
   "outputs": [],
   "source": [
    "board = initial_state()\n"
   ]
  },
  {
   "cell_type": "code",
   "execution_count": 3,
   "metadata": {},
   "outputs": [
    {
     "data": {
      "text/plain": [
       "'X'"
      ]
     },
     "execution_count": 3,
     "metadata": {},
     "output_type": "execute_result"
    }
   ],
   "source": [
    "player(board)"
   ]
  },
  {
   "cell_type": "code",
   "execution_count": 3,
   "metadata": {},
   "outputs": [
    {
     "name": "stdout",
     "output_type": "stream",
     "text": [
      "{(0, 1), (1, 2), (2, 1), (0, 0), (1, 1), (2, 0), (0, 2), (2, 2), (1, 0)}\n"
     ]
    }
   ],
   "source": [
    "print(actions(board))"
   ]
  },
  {
   "cell_type": "code",
   "execution_count": 4,
   "metadata": {},
   "outputs": [
    {
     "name": "stdout",
     "output_type": "stream",
     "text": [
      "[['X', None, None], [None, None, None], [None, None, None]]\n"
     ]
    }
   ],
   "source": [
    "print(result(board,(0,0)))"
   ]
  },
  {
   "cell_type": "code",
   "execution_count": 14,
   "metadata": {},
   "outputs": [
    {
     "name": "stdout",
     "output_type": "stream",
     "text": [
      "True\n",
      "True\n",
      "True\n",
      "True\n",
      "True\n",
      "[['O', None, 'X'], [None, 'X', None], ['O', None, 'O']]\n"
     ]
    }
   ],
   "source": [
    "#test winner.\n",
    "board[0][0] = \"X\"\n",
    "board[0][1] = \"X\"\n",
    "board[0][2] = \"X\"\n",
    "print(winner(board) == \"X\")\n",
    "\n",
    "board = initial_state()\n",
    "board[0][0] = \"O\"\n",
    "board[1][1] = \"O\"\n",
    "board[2][2] = \"O\"\n",
    "print(winner(board) == \"O\")\n",
    "\n",
    "board = initial_state()\n",
    "board[0][0] = \"O\"\n",
    "board[1][1] = \"X\"\n",
    "board[2][2] = \"O\"\n",
    "print(winner(board) == None)\n",
    "\n",
    "board[0][2] = \"X\"\n",
    "board[2][0] = \"X\"\n",
    "print(winner(board) == \"X\")\n",
    "\n",
    "board[2][0] = \"O\"\n",
    "print(winner(board) == None)\n",
    "\n",
    "print(board)\n",
    "\n"
   ]
  }
 ],
 "metadata": {
  "kernelspec": {
   "display_name": "Python 3",
   "language": "python",
   "name": "python3"
  },
  "language_info": {
   "codemirror_mode": {
    "name": "ipython",
    "version": 3
   },
   "file_extension": ".py",
   "mimetype": "text/x-python",
   "name": "python",
   "nbconvert_exporter": "python",
   "pygments_lexer": "ipython3",
   "version": "3.10.7"
  }
 },
 "nbformat": 4,
 "nbformat_minor": 2
}
